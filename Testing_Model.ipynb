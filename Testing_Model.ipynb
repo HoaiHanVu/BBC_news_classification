{
 "cells": [
  {
   "cell_type": "code",
   "execution_count": 1,
   "metadata": {},
   "outputs": [
    {
     "name": "stdout",
     "output_type": "stream",
     "text": [
      "importing Jupyter notebook from /Users/vuhan/Desktop/LDS6_269C7N5_ON_VuTranHoaiHan_MidExam/Lib/Functions.ipynb\n"
     ]
    }
   ],
   "source": [
    "import numpy as np\n",
    "import pandas as pd\n",
    "import matplotlib.pyplot as plt\n",
    "import seaborn as sb\n",
    "import import_ipynb\n",
    "import os\n",
    "import warnings\n",
    "import Lib.Functions as fc\n",
    "warnings.filterwarnings('ignore')"
   ]
  },
  {
   "cell_type": "markdown",
   "metadata": {},
   "source": [
    "# Evaluating Text Classification Model"
   ]
  },
  {
   "cell_type": "markdown",
   "metadata": {},
   "source": [
    "Load dữ liệu Test cho mô hình bằng hàm `load_dataset` đã viết trong file `Training_Model` và lưu trong thư viện __Lib__:"
   ]
  },
  {
   "cell_type": "code",
   "execution_count": 2,
   "metadata": {},
   "outputs": [
    {
     "data": {
      "text/html": [
       "<div>\n",
       "<style scoped>\n",
       "    .dataframe tbody tr th:only-of-type {\n",
       "        vertical-align: middle;\n",
       "    }\n",
       "\n",
       "    .dataframe tbody tr th {\n",
       "        vertical-align: top;\n",
       "    }\n",
       "\n",
       "    .dataframe thead th {\n",
       "        text-align: right;\n",
       "    }\n",
       "</style>\n",
       "<table border=\"1\" class=\"dataframe\">\n",
       "  <thead>\n",
       "    <tr style=\"text-align: right;\">\n",
       "      <th></th>\n",
       "      <th>Text</th>\n",
       "      <th>Class</th>\n",
       "    </tr>\n",
       "  </thead>\n",
       "  <tbody>\n",
       "    <tr>\n",
       "      <th>0</th>\n",
       "      <td>Top gig award for Scissor Sisters  New York ba...</td>\n",
       "      <td>entertainment</td>\n",
       "    </tr>\n",
       "    <tr>\n",
       "      <th>1</th>\n",
       "      <td>Brits return Keane to number one  Brits succes...</td>\n",
       "      <td>entertainment</td>\n",
       "    </tr>\n",
       "    <tr>\n",
       "      <th>2</th>\n",
       "      <td>U2 to play at Grammy awards show  Irish rock b...</td>\n",
       "      <td>entertainment</td>\n",
       "    </tr>\n",
       "    <tr>\n",
       "      <th>3</th>\n",
       "      <td>Queen recruit singer for new tour  The remaini...</td>\n",
       "      <td>entertainment</td>\n",
       "    </tr>\n",
       "    <tr>\n",
       "      <th>4</th>\n",
       "      <td>Triple triumph for Little Britain  Top TV cult...</td>\n",
       "      <td>entertainment</td>\n",
       "    </tr>\n",
       "  </tbody>\n",
       "</table>\n",
       "</div>"
      ],
      "text/plain": [
       "                                                Text          Class\n",
       "0  Top gig award for Scissor Sisters  New York ba...  entertainment\n",
       "1  Brits return Keane to number one  Brits succes...  entertainment\n",
       "2  U2 to play at Grammy awards show  Irish rock b...  entertainment\n",
       "3  Queen recruit singer for new tour  The remaini...  entertainment\n",
       "4  Triple triumph for Little Britain  Top TV cult...  entertainment"
      ]
     },
     "execution_count": 2,
     "metadata": {},
     "output_type": "execute_result"
    }
   ],
   "source": [
    "folder_name = 'bbc_test'\n",
    "df = fc.load_dataset(folder_name)\n",
    "df.head()"
   ]
  },
  {
   "cell_type": "code",
   "execution_count": 3,
   "metadata": {},
   "outputs": [
    {
     "name": "stdout",
     "output_type": "stream",
     "text": [
      "<class 'pandas.core.frame.DataFrame'>\n",
      "Int64Index: 287 entries, 0 to 51\n",
      "Data columns (total 2 columns):\n",
      " #   Column  Non-Null Count  Dtype \n",
      "---  ------  --------------  ----- \n",
      " 0   Text    287 non-null    object\n",
      " 1   Class   287 non-null    object\n",
      "dtypes: object(2)\n",
      "memory usage: 6.7+ KB\n"
     ]
    }
   ],
   "source": [
    "df.info()"
   ]
  },
  {
   "cell_type": "markdown",
   "metadata": {},
   "source": [
    "Ta sẽ xem qua các lớp trong dữ liệu test:"
   ]
  },
  {
   "cell_type": "code",
   "execution_count": 4,
   "metadata": {},
   "outputs": [
    {
     "name": "stdout",
     "output_type": "stream",
     "text": [
      "----- Class -----\n",
      "Describe: \n",
      "count               287\n",
      "unique                4\n",
      "top       entertainment\n",
      "freq                 88\n",
      "Name: Class, dtype: object\n",
      "* Unique value: \n",
      "entertainment    88\n",
      "business         80\n",
      "politics         67\n",
      "tech             52\n",
      "Name: Class, dtype: int64\n",
      "* Mode value: entertainment\n",
      "* Number of missing value: 0\n"
     ]
    },
    {
     "data": {
      "image/png": "[encoded data removed]",
      "text/plain": [
       "<Figure size 432x288 with 1 Axes>"
      ]
     },
     "metadata": {
      "needs_background": "light"
     },
     "output_type": "display_data"
    }
   ],
   "source": [
    "fc.categorical_analysis(df, 'Class')"
   ]
  },
  {
   "cell_type": "code",
   "execution_count": 5,
   "metadata": {},
   "outputs": [],
   "source": [
    "X = df.iloc[:, 0]\n",
    "y = df.iloc[:, -1]"
   ]
  },
  {
   "cell_type": "markdown",
   "metadata": {},
   "source": [
    "Load mô hình dự đoán và đánh giá trên bộ dữ liệu Test, hàm `load_model` được viết sẵn trong folder __Lib__:"
   ]
  },
  {
   "cell_type": "code",
   "execution_count": 6,
   "metadata": {},
   "outputs": [],
   "source": [
    "text_clf_model = fc.load_model('Text_Classification_VuTranHoaiHan.pkl')"
   ]
  },
  {
   "cell_type": "code",
   "execution_count": 7,
   "metadata": {},
   "outputs": [
    {
     "name": "stdout",
     "output_type": "stream",
     "text": [
      "----- CLASSIFICATION MODEL PREFOMANCE IN TEST SET-----\n",
      "* R-squared model of Test: 0.9861\n",
      "\n",
      "* Confusion Matrix of Test: \n",
      "[[78  0  2  0]\n",
      " [ 0 86  0  2]\n",
      " [ 0  0 67  0]\n",
      " [ 0  0  0 52]]\n",
      "\n",
      "* Classification Report of Test: \n",
      "               precision    recall  f1-score   support\n",
      "\n",
      "     business       1.00      0.97      0.99        80\n",
      "entertainment       1.00      0.98      0.99        88\n",
      "     politics       0.97      1.00      0.99        67\n",
      "         tech       0.96      1.00      0.98        52\n",
      "\n",
      "     accuracy                           0.99       287\n",
      "    macro avg       0.98      0.99      0.99       287\n",
      " weighted avg       0.99      0.99      0.99       287\n",
      "\n"
     ]
    }
   ],
   "source": [
    "fc.eval_clf_testset(text_clf_model, X, y)"
   ]
  },
  {
   "cell_type": "markdown",
   "metadata": {},
   "source": [
    "Mô hình hoạt động khá tốt trên dữ liệu test. Bộ phân loại biểu quyết cho điểm số `f1-score` cao và khá tương đồng giữa các lớp."
   ]
  },
  {
   "cell_type": "markdown",
   "metadata": {},
   "source": [
    "Các thành phần trong mô hình:"
   ]
  },
  {
   "cell_type": "code",
   "execution_count": 8,
   "metadata": {},
   "outputs": [
    {
     "data": {
      "text/plain": [
       "Pipeline(steps=[('cv', CountVectorizer(stop_words='english')),\n",
       "                ('voting_clf',\n",
       "                 VotingClassifier(estimators=[('multiNB', MultinomialNB()),\n",
       "                                              ('logit_clf',\n",
       "                                               LogisticRegression(multi_class='ovr',\n",
       "                                                                  random_state=42)),\n",
       "                                              ('svc',\n",
       "                                               SVC(C=1, gamma=0.001,\n",
       "                                                   kernel='linear',\n",
       "                                                   probability=True,\n",
       "                                                   random_state=42)),\n",
       "                                              ('forest_clf',\n",
       "                                               RandomForestClassifier(bootstrap=False,\n",
       "                                                                      n_estimators=120,\n",
       "                                                                      random_state=42)),\n",
       "                                              ('trees_clf',\n",
       "                                               ExtraTreesClassifier(n_estimators=300,\n",
       "                                                                    random_state=42)),\n",
       "                                              ('ada_clf',\n",
       "                                               AdaBoostClassifier(base_estimator=RandomForestClassifier(bootstrap=False,\n",
       "                                                                                                        n_estimators=120),\n",
       "                                                                  learning_rate=0.5,\n",
       "                                                                  random_state=42))],\n",
       "                                  n_jobs=-1, voting='soft'))])"
      ]
     },
     "execution_count": 8,
     "metadata": {},
     "output_type": "execute_result"
    }
   ],
   "source": [
    "text_clf_model"
   ]
  },
  {
   "cell_type": "code",
   "execution_count": null,
   "metadata": {},
   "outputs": [],
   "source": []
  }
 ],
 "metadata": {
  "kernelspec": {
   "display_name": "Python 3",
   "language": "python",
   "name": "python3"
  },
  "language_info": {
   "codemirror_mode": {
    "name": "ipython",
    "version": 3
   },
   "file_extension": ".py",
   "mimetype": "text/x-python",
   "name": "python",
   "nbconvert_exporter": "python",
   "pygments_lexer": "ipython3",
   "version": "3.8.10"
  }
 },
 "nbformat": 4,
 "nbformat_minor": 4
}
