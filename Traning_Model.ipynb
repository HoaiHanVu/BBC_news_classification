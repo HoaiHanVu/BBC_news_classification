{
 "cells": [
  {
   "cell_type": "code",
   "execution_count": 1,
   "metadata": {},
   "outputs": [
    {
     "name": "stdout",
     "output_type": "stream",
     "text": [
      "importing Jupyter notebook from /Users/vuhan/Desktop/LDS6_269C7N5_ON_VuTranHoaiHan_MidExam/Lib/Functions.ipynb\n"
     ]
    }
   ],
   "source": [
    "import numpy as np\n",
    "import pandas as pd\n",
    "import matplotlib.pyplot as plt\n",
    "import seaborn as sb\n",
    "import import_ipynb\n",
    "import os\n",
    "import warnings\n",
    "import Lib.Functions as fc\n",
    "warnings.filterwarnings('ignore')"
   ]
  },
  {
   "cell_type": "markdown",
   "metadata": {},
   "source": [
    "# Text Classification"
   ]
  },
  {
   "cell_type": "markdown",
   "metadata": {},
   "source": [
    "Đầu tiên, ta viết một hàm đọc dữ liệu trong folder, hàm này sẽ nhận tên của folder và trả về một DataFrame chứa nội dung (dạng văn bản) của từng file chứa trong từng folder con. Hàm này sẽ được lưu vào thư viện __Lib__ để dành cho việc load và đánh giá dữ liệu test."
   ]
  },
  {
   "cell_type": "code",
   "execution_count": 2,
   "metadata": {},
   "outputs": [],
   "source": [
    "def load_dataset(folder_name):\n",
    "    my_dir = os.getcwd() + '/' + folder_name\n",
    "    folder_names = []\n",
    "    folder_paths = []\n",
    "    for entry_name in os.listdir(my_dir):\n",
    "        entry_path = os.path.join(my_dir, entry_name)\n",
    "        if os.path.isdir(entry_path):\n",
    "            folder_names.append(entry_name)\n",
    "            folder_paths.append(entry_path)\n",
    "    data = []\n",
    "    for name, path in zip(folder_names, folder_paths):\n",
    "        temp_lst = []\n",
    "        for filename in os.listdir(path):\n",
    "            entry_file = os.path.join(path, filename)\n",
    "            with open(entry_file, 'r', encoding = 'latin-1') as f:\n",
    "                content = f.read().replace('\\n', ' ').rstrip(' ')\n",
    "                temp_lst.append(str(content))\n",
    "        df = pd.DataFrame({'Text': temp_lst, 'Class': np.array([name] * len(temp_lst))})\n",
    "        data.append(df)\n",
    "    final_df = pd.concat(data)\n",
    "    return final_df"
   ]
  },
  {
   "cell_type": "code",
   "execution_count": 3,
   "metadata": {},
   "outputs": [
    {
     "data": {
      "text/html": [
       "<div>\n",
       "<style scoped>\n",
       "    .dataframe tbody tr th:only-of-type {\n",
       "        vertical-align: middle;\n",
       "    }\n",
       "\n",
       "    .dataframe tbody tr th {\n",
       "        vertical-align: top;\n",
       "    }\n",
       "\n",
       "    .dataframe thead th {\n",
       "        text-align: right;\n",
       "    }\n",
       "</style>\n",
       "<table border=\"1\" class=\"dataframe\">\n",
       "  <thead>\n",
       "    <tr style=\"text-align: right;\">\n",
       "      <th></th>\n",
       "      <th>Text</th>\n",
       "      <th>Class</th>\n",
       "    </tr>\n",
       "  </thead>\n",
       "  <tbody>\n",
       "    <tr>\n",
       "      <th>0</th>\n",
       "      <td>Musicians to tackle US red tape  Musicians' gr...</td>\n",
       "      <td>entertainment</td>\n",
       "    </tr>\n",
       "    <tr>\n",
       "      <th>1</th>\n",
       "      <td>U2's desire to be number one  U2, who have won...</td>\n",
       "      <td>entertainment</td>\n",
       "    </tr>\n",
       "    <tr>\n",
       "      <th>2</th>\n",
       "      <td>Rocker Doherty in on-stage fight  Rock singer ...</td>\n",
       "      <td>entertainment</td>\n",
       "    </tr>\n",
       "    <tr>\n",
       "      <th>3</th>\n",
       "      <td>Snicket tops US box office chart  The film ada...</td>\n",
       "      <td>entertainment</td>\n",
       "    </tr>\n",
       "    <tr>\n",
       "      <th>4</th>\n",
       "      <td>Ocean's Twelve raids box office  Ocean's Twelv...</td>\n",
       "      <td>entertainment</td>\n",
       "    </tr>\n",
       "  </tbody>\n",
       "</table>\n",
       "</div>"
      ],
      "text/plain": [
       "                                                Text          Class\n",
       "0  Musicians to tackle US red tape  Musicians' gr...  entertainment\n",
       "1  U2's desire to be number one  U2, who have won...  entertainment\n",
       "2  Rocker Doherty in on-stage fight  Rock singer ...  entertainment\n",
       "3  Snicket tops US box office chart  The film ada...  entertainment\n",
       "4  Ocean's Twelve raids box office  Ocean's Twelv...  entertainment"
      ]
     },
     "execution_count": 3,
     "metadata": {},
     "output_type": "execute_result"
    }
   ],
   "source": [
    "folder_data = 'bbc_train'\n",
    "df = load_dataset(folder_data)\n",
    "df.head()"
   ]
  },
  {
   "cell_type": "code",
   "execution_count": 4,
   "metadata": {
    "scrolled": true
   },
   "outputs": [
    {
     "name": "stdout",
     "output_type": "stream",
     "text": [
      "<class 'pandas.core.frame.DataFrame'>\n",
      "Int64Index: 1854 entries, 0 to 348\n",
      "Data columns (total 2 columns):\n",
      " #   Column  Non-Null Count  Dtype \n",
      "---  ------  --------------  ----- \n",
      " 0   Text    1854 non-null   object\n",
      " 1   Class   1854 non-null   object\n",
      "dtypes: object(2)\n",
      "memory usage: 43.5+ KB\n"
     ]
    }
   ],
   "source": [
    "df.info()"
   ]
  },
  {
   "cell_type": "markdown",
   "metadata": {},
   "source": [
    "Ta sẽ xem qua số lượng mẫu của từng lớp trong dữ liệu."
   ]
  },
  {
   "cell_type": "code",
   "execution_count": 5,
   "metadata": {},
   "outputs": [
    {
     "name": "stdout",
     "output_type": "stream",
     "text": [
      "----- Class -----\n",
      "Describe: \n",
      "count         1854\n",
      "unique           5\n",
      "top       business\n",
      "freq           430\n",
      "Name: Class, dtype: object\n",
      "* Unique value: \n",
      "business         430\n",
      "sport            427\n",
      "politics         350\n",
      "tech             349\n",
      "entertainment    298\n",
      "Name: Class, dtype: int64\n",
      "* Mode value: business\n",
      "* Number of missing value: 0\n"
     ]
    },
    {
     "data": {
      "image/png": "[encoded data removed]",
      "text/plain": [
       "<Figure size 432x288 with 1 Axes>"
      ]
     },
     "metadata": {
      "needs_background": "light"
     },
     "output_type": "display_data"
    }
   ],
   "source": [
    "fc.categorical_analysis(df, 'Class')"
   ]
  },
  {
   "cell_type": "markdown",
   "metadata": {},
   "source": [
    "Trước khi đi vào phân tích, ta sẽ tách dataset thành tập train và test với tỉ lệ tập test là 20% trên tổng số dòng dữ liệu:"
   ]
  },
  {
   "cell_type": "code",
   "execution_count": 6,
   "metadata": {},
   "outputs": [],
   "source": [
    "from sklearn.model_selection import train_test_split, cross_val_score\n",
    "\n",
    "X = df.iloc[:, 0]\n",
    "y = df.iloc[:, -1]\n",
    "\n",
    "X_train, X_test, y_train, y_test = train_test_split(X, y, test_size = 0.2, random_state = 42)"
   ]
  },
  {
   "cell_type": "markdown",
   "metadata": {},
   "source": [
    "Xử lý dữ liệu văn bản bằng lớp `CountVectorizer` của Sklearn và khớp với tập train, test:"
   ]
  },
  {
   "cell_type": "code",
   "execution_count": 7,
   "metadata": {},
   "outputs": [],
   "source": [
    "from sklearn.feature_extraction.text import CountVectorizer\n",
    "\n",
    "cv = CountVectorizer(stop_words = 'english')\n",
    "\n",
    "X_train_cv = cv.fit_transform(X_train)\n",
    "X_test_cv = cv.transform(X_test)"
   ]
  },
  {
   "cell_type": "code",
   "execution_count": 8,
   "metadata": {},
   "outputs": [
    {
     "name": "stdout",
     "output_type": "stream",
     "text": [
      "(1483, 24678) (371, 24678)\n"
     ]
    }
   ],
   "source": [
    "print(X_train_cv.shape, X_test_cv.shape)"
   ]
  },
  {
   "cell_type": "markdown",
   "metadata": {},
   "source": [
    "Ta sẽ bắt đầu với thuật toán `MultinomialNB` của lớp `naive_bayes`: "
   ]
  },
  {
   "cell_type": "code",
   "execution_count": 9,
   "metadata": {},
   "outputs": [
    {
     "data": {
      "text/plain": [
       "MultinomialNB()"
      ]
     },
     "execution_count": 9,
     "metadata": {},
     "output_type": "execute_result"
    }
   ],
   "source": [
    "from sklearn.naive_bayes import MultinomialNB\n",
    "\n",
    "multiNB = MultinomialNB()\n",
    "multiNB.fit(X_train_cv, y_train)"
   ]
  },
  {
   "cell_type": "code",
   "execution_count": 10,
   "metadata": {},
   "outputs": [
    {
     "data": {
      "text/plain": [
       "0.9959541469993257"
      ]
     },
     "execution_count": 10,
     "metadata": {},
     "output_type": "execute_result"
    }
   ],
   "source": [
    "multiNB.score(X_train_cv, y_train)"
   ]
  },
  {
   "cell_type": "markdown",
   "metadata": {},
   "source": [
    "Độ chính xác của `MultinomialNB` trên tập train gần như tuyệt đối, ta sẽ đánh giá bằng kiểm định chéo với 5 fold mặc định và tính trung bình số điểm độ chính xác:"
   ]
  },
  {
   "cell_type": "code",
   "execution_count": 11,
   "metadata": {},
   "outputs": [
    {
     "data": {
      "text/plain": [
       "0.9777345527345528"
      ]
     },
     "execution_count": 11,
     "metadata": {},
     "output_type": "execute_result"
    }
   ],
   "source": [
    "multiNB_score = cross_val_score(multiNB, X_train_cv, y_train, cv=5)\n",
    "multiNB_score.mean()"
   ]
  },
  {
   "cell_type": "markdown",
   "metadata": {},
   "source": [
    "Trung bình kiểm định chéo không khác biệt quá lớn. Tiếp theo, ta sẽ đánh giá mô hình bằng tập test, đồng thời hiển thị các thông số quan trọng trong việc đánh giá bài toán phân loại như \n",
    "\n",
    "_confusion matrix, precision_ và _recall_ :\n",
    "\n",
    "\n",
    "Hàm `eval_clf_testset` đã được viết sẵn trong thư viện Lib, hàm này trả về độ chính xác của mô hình trên tập test, ma trận nhầm lẫn, các giá trị precision, recall và f1-score của từng lớp:"
   ]
  },
  {
   "cell_type": "code",
   "execution_count": 12,
   "metadata": {
    "scrolled": false
   },
   "outputs": [
    {
     "name": "stdout",
     "output_type": "stream",
     "text": [
      "----- CLASSIFICATION MODEL PREFOMANCE IN TEST SET-----\n",
      "* R-squared model of Test: 0.9569\n",
      "\n",
      "* Confusion Matrix of Test: \n",
      "[[89  1  4  0  2]\n",
      " [ 0 54  1  0  1]\n",
      " [ 2  0 64  0  1]\n",
      " [ 1  0  0 76  0]\n",
      " [ 1  1  1  0 72]]\n",
      "\n",
      "* Classification Report of Test: \n",
      "               precision    recall  f1-score   support\n",
      "\n",
      "     business       0.96      0.93      0.94        96\n",
      "entertainment       0.96      0.96      0.96        56\n",
      "     politics       0.91      0.96      0.93        67\n",
      "        sport       1.00      0.99      0.99        77\n",
      "         tech       0.95      0.96      0.95        75\n",
      "\n",
      "     accuracy                           0.96       371\n",
      "    macro avg       0.96      0.96      0.96       371\n",
      " weighted avg       0.96      0.96      0.96       371\n",
      "\n"
     ]
    }
   ],
   "source": [
    "fc.eval_clf_testset(multiNB, X_test_cv, y_test)"
   ]
  },
  {
   "cell_type": "markdown",
   "metadata": {},
   "source": [
    "Mô hình `MultinomialNB` bị overfitting nhẹ, tuy nhiên các lớp được phân loại khá ổn. Một ứng viên triển vọng cho quá trình lựa chọn.\n",
    "\n",
    "Ta sẽ thử phân loại với một thuật toán phổ biến khác sử dụng phương pháp xác suất để phân loại các lớp,\n",
    "\n",
    "`Logistic Regression`:"
   ]
  },
  {
   "cell_type": "code",
   "execution_count": 13,
   "metadata": {},
   "outputs": [
    {
     "data": {
      "text/plain": [
       "LogisticRegression(multi_class='ovr', random_state=42)"
      ]
     },
     "execution_count": 13,
     "metadata": {},
     "output_type": "execute_result"
    }
   ],
   "source": [
    "from sklearn.linear_model import LogisticRegression\n",
    "\n",
    "logit = LogisticRegression(multi_class = 'ovr', random_state = 42)\n",
    "logit.fit(X_train_cv, y_train)"
   ]
  },
  {
   "cell_type": "code",
   "execution_count": 14,
   "metadata": {},
   "outputs": [
    {
     "data": {
      "text/plain": [
       "1.0"
      ]
     },
     "execution_count": 14,
     "metadata": {},
     "output_type": "execute_result"
    }
   ],
   "source": [
    "logit.score(X_train_cv, y_train)"
   ]
  },
  {
   "cell_type": "code",
   "execution_count": 15,
   "metadata": {},
   "outputs": [
    {
     "data": {
      "text/plain": [
       "0.9763991263991263"
      ]
     },
     "execution_count": 15,
     "metadata": {},
     "output_type": "execute_result"
    }
   ],
   "source": [
    "logit_score = cross_val_score(logit, X_train_cv, y_train, cv=5)\n",
    "logit_score.mean()"
   ]
  },
  {
   "cell_type": "markdown",
   "metadata": {},
   "source": [
    "Độ chính xác tuyệt đối trên tập train và kiểm định chéo với số điểm gần tương đương, \n",
    "\n",
    "ta sẽ xem mô hình hoạt động như thế nào trên dữ liệu test:"
   ]
  },
  {
   "cell_type": "code",
   "execution_count": 16,
   "metadata": {},
   "outputs": [
    {
     "name": "stdout",
     "output_type": "stream",
     "text": [
      "----- CLASSIFICATION MODEL PREFOMANCE IN TEST SET-----\n",
      "* R-squared model of Test: 0.965\n",
      "\n",
      "* Confusion Matrix of Test: \n",
      "[[92  1  1  0  2]\n",
      " [ 0 54  0  0  2]\n",
      " [ 2  1 63  0  1]\n",
      " [ 0  0  0 77  0]\n",
      " [ 3  0  0  0 72]]\n",
      "\n",
      "* Classification Report of Test: \n",
      "               precision    recall  f1-score   support\n",
      "\n",
      "     business       0.95      0.96      0.95        96\n",
      "entertainment       0.96      0.96      0.96        56\n",
      "     politics       0.98      0.94      0.96        67\n",
      "        sport       1.00      1.00      1.00        77\n",
      "         tech       0.94      0.96      0.95        75\n",
      "\n",
      "     accuracy                           0.96       371\n",
      "    macro avg       0.97      0.96      0.97       371\n",
      " weighted avg       0.97      0.96      0.97       371\n",
      "\n"
     ]
    }
   ],
   "source": [
    "fc.eval_clf_testset(logit, X_test_cv, y_test)"
   ]
  },
  {
   "cell_type": "markdown",
   "metadata": {},
   "source": [
    "Độ chính xác nhỉnh hơn một chút và giảm overfitting so với `MultinomialNB`, `Logistic Regression` có vẻ khớp khá tốt với dữ liệu."
   ]
  },
  {
   "cell_type": "markdown",
   "metadata": {},
   "source": [
    "Các bộ phân loại từ đầu đến giờ đều có một điểm chung là có thể ước tính xác suất của từng lớp, bây giờ ta sẽ huấn luyện với một mô hình mạnh mẽ khác sử dụng các ranh giới để phân loại: `Support Vector Machine`.\n",
    "\n",
    "Ta sẽ bắt đầu với `SVC`:"
   ]
  },
  {
   "cell_type": "code",
   "execution_count": 17,
   "metadata": {},
   "outputs": [
    {
     "data": {
      "text/plain": [
       "SVC(random_state=42)"
      ]
     },
     "execution_count": 17,
     "metadata": {},
     "output_type": "execute_result"
    }
   ],
   "source": [
    "from sklearn.svm import SVC\n",
    "\n",
    "svc_o = SVC(random_state = 42)\n",
    "svc_o.fit(X_train_cv, y_train)"
   ]
  },
  {
   "cell_type": "code",
   "execution_count": 19,
   "metadata": {},
   "outputs": [
    {
     "data": {
      "text/plain": [
       "0.9986513823331086"
      ]
     },
     "execution_count": 19,
     "metadata": {},
     "output_type": "execute_result"
    }
   ],
   "source": [
    "svc_o.score(X_train_cv, y_train)"
   ]
  },
  {
   "cell_type": "code",
   "execution_count": 20,
   "metadata": {},
   "outputs": [
    {
     "name": "stdout",
     "output_type": "stream",
     "text": [
      "SVC cross validation took 3.28s.\n",
      "0.9501023751023752\n"
     ]
    }
   ],
   "source": [
    "import time\n",
    "\n",
    "t1 = time.time()\n",
    "svc_o_score = cross_val_score(svc_o, X_train_cv, y_train, cv=5, n_jobs = -1)\n",
    "t2 = time.time()\n",
    "\n",
    "print('SVC cross validation took {:.2f}s.'.format(t2 - t1))\n",
    "print(svc_o_score.mean())"
   ]
  },
  {
   "cell_type": "code",
   "execution_count": 21,
   "metadata": {},
   "outputs": [
    {
     "name": "stdout",
     "output_type": "stream",
     "text": [
      "----- CLASSIFICATION MODEL PREFOMANCE IN TEST SET-----\n",
      "* R-squared model of Test: 0.9461\n",
      "\n",
      "* Confusion Matrix of Test: \n",
      "[[91  1  2  0  2]\n",
      " [ 0 54  0  0  2]\n",
      " [ 2  1 63  0  1]\n",
      " [ 1  0  0 74  2]\n",
      " [ 6  0  0  0 69]]\n",
      "\n",
      "* Classification Report of Test: \n",
      "               precision    recall  f1-score   support\n",
      "\n",
      "     business       0.91      0.95      0.93        96\n",
      "entertainment       0.96      0.96      0.96        56\n",
      "     politics       0.97      0.94      0.95        67\n",
      "        sport       1.00      0.96      0.98        77\n",
      "         tech       0.91      0.92      0.91        75\n",
      "\n",
      "     accuracy                           0.95       371\n",
      "    macro avg       0.95      0.95      0.95       371\n",
      " weighted avg       0.95      0.95      0.95       371\n",
      "\n"
     ]
    }
   ],
   "source": [
    "fc.eval_clf_testset(svc_o, X_test_cv, y_test)"
   ]
  },
  {
   "cell_type": "markdown",
   "metadata": {},
   "source": [
    "Không tệ, tuy nhiên hơi thấp so với các mô hình phía trên. Ta sẽ tìm kiếm dạng lưới cho việc tinh chỉnh mô hình:"
   ]
  },
  {
   "cell_type": "code",
   "execution_count": 22,
   "metadata": {},
   "outputs": [
    {
     "name": "stdout",
     "output_type": "stream",
     "text": [
      "Grid Search for SVC took 1.25 minutes.\n"
     ]
    }
   ],
   "source": [
    "from sklearn.model_selection import GridSearchCV\n",
    "import time\n",
    "\n",
    "params_svc = [{'kernel': ['rbf', 'linear'], \n",
    "               'C': [1, 10, 100, 1000], \n",
    "               'gamma': np.linspace(0.001, 0.01, 10)}]\n",
    "\n",
    "grid_search_svc = GridSearchCV(SVC(random_state = 42), params_svc, cv=4, n_jobs = -1)\n",
    "t1 = time.time()\n",
    "grid_search_svc.fit(X_train_cv, y_train)\n",
    "t2 = time.time()\n",
    "\n",
    "print('Grid Search for SVC took {:.2f} minutes.'.format((t2 - t1) / 60))"
   ]
  },
  {
   "cell_type": "code",
   "execution_count": 23,
   "metadata": {},
   "outputs": [
    {
     "name": "stdout",
     "output_type": "stream",
     "text": [
      "{'C': 1, 'gamma': 0.001, 'kernel': 'linear'}\n",
      "SVC(C=1, gamma=0.001, kernel='linear', random_state=42)\n"
     ]
    }
   ],
   "source": [
    "print(grid_search_svc.best_params_)\n",
    "print(grid_search_svc.best_estimator_)"
   ]
  },
  {
   "cell_type": "code",
   "execution_count": 24,
   "metadata": {
    "scrolled": true
   },
   "outputs": [
    {
     "data": {
      "text/plain": [
       "1.0"
      ]
     },
     "execution_count": 24,
     "metadata": {},
     "output_type": "execute_result"
    }
   ],
   "source": [
    "grid_search_svc.score(X_train_cv, y_train)"
   ]
  },
  {
   "cell_type": "code",
   "execution_count": 25,
   "metadata": {},
   "outputs": [
    {
     "name": "stdout",
     "output_type": "stream",
     "text": [
      "SVC cross validation took 278.35s.\n",
      "0.9662890162890163\n"
     ]
    }
   ],
   "source": [
    "t1 = time.time()\n",
    "svc_gr_score = cross_val_score(grid_search_svc, X_train_cv, y_train, n_jobs = -1)\n",
    "t2 = time.time()\n",
    "\n",
    "print('SVC cross validation took {:.2f}s.'.format(t2 - t1))\n",
    "print(svc_gr_score.mean())"
   ]
  },
  {
   "cell_type": "code",
   "execution_count": 26,
   "metadata": {},
   "outputs": [
    {
     "name": "stdout",
     "output_type": "stream",
     "text": [
      "----- CLASSIFICATION MODEL PREFOMANCE IN TEST SET-----\n",
      "* R-squared model of Test: 0.9569\n",
      "\n",
      "* Confusion Matrix of Test: \n",
      "[[90  3  1  0  2]\n",
      " [ 0 55  0  0  1]\n",
      " [ 2  1 63  0  1]\n",
      " [ 0  0  0 77  0]\n",
      " [ 4  0  1  0 70]]\n",
      "\n",
      "* Classification Report of Test: \n",
      "               precision    recall  f1-score   support\n",
      "\n",
      "     business       0.94      0.94      0.94        96\n",
      "entertainment       0.93      0.98      0.96        56\n",
      "     politics       0.97      0.94      0.95        67\n",
      "        sport       1.00      1.00      1.00        77\n",
      "         tech       0.95      0.93      0.94        75\n",
      "\n",
      "     accuracy                           0.96       371\n",
      "    macro avg       0.96      0.96      0.96       371\n",
      " weighted avg       0.96      0.96      0.96       371\n",
      "\n"
     ]
    }
   ],
   "source": [
    "fc.eval_clf_testset(grid_search_svc, X_test_cv, y_test)"
   ]
  },
  {
   "cell_type": "markdown",
   "metadata": {},
   "source": [
    "Tìm kiếm dạng lưới cho thấy mô hình `SVC`với hạt nhân tuyến tính có vẻ khớp tốt hơn và cho kết quả khả quan hơn so với các hạt nhân khác.\n",
    "\n",
    "Ta sẽ thử thêm một mô hình SVM khác cho tác vụ phân loại, lần này là `LinearSVC`, ta cũng sẽ bắt đầu với các tham số mặc định: "
   ]
  },
  {
   "cell_type": "code",
   "execution_count": 27,
   "metadata": {},
   "outputs": [
    {
     "data": {
      "text/plain": [
       "LinearSVC(random_state=42)"
      ]
     },
     "execution_count": 27,
     "metadata": {},
     "output_type": "execute_result"
    }
   ],
   "source": [
    "from sklearn.svm import LinearSVC\n",
    "\n",
    "lin_svc = LinearSVC(random_state = 42)\n",
    "lin_svc.fit(X_train_cv, y_train)"
   ]
  },
  {
   "cell_type": "code",
   "execution_count": 28,
   "metadata": {},
   "outputs": [
    {
     "data": {
      "text/plain": [
       "1.0"
      ]
     },
     "execution_count": 28,
     "metadata": {},
     "output_type": "execute_result"
    }
   ],
   "source": [
    "lin_svc.score(X_train_cv, y_train)"
   ]
  },
  {
   "cell_type": "code",
   "execution_count": 29,
   "metadata": {},
   "outputs": [
    {
     "data": {
      "text/plain": [
       "0.9757257257257258"
      ]
     },
     "execution_count": 29,
     "metadata": {},
     "output_type": "execute_result"
    }
   ],
   "source": [
    "lin_svc_score = cross_val_score(lin_svc, X_train_cv, y_train, cv=5)\n",
    "lin_svc_score.mean()"
   ]
  },
  {
   "cell_type": "code",
   "execution_count": 30,
   "metadata": {},
   "outputs": [
    {
     "name": "stdout",
     "output_type": "stream",
     "text": [
      "----- CLASSIFICATION MODEL PREFOMANCE IN TEST SET-----\n",
      "* R-squared model of Test: 0.9569\n",
      "\n",
      "* Confusion Matrix of Test: \n",
      "[[88  2  4  0  2]\n",
      " [ 0 55  0  0  1]\n",
      " [ 2  1 63  0  1]\n",
      " [ 0  0  0 77  0]\n",
      " [ 3  0  0  0 72]]\n",
      "\n",
      "* Classification Report of Test: \n",
      "               precision    recall  f1-score   support\n",
      "\n",
      "     business       0.95      0.92      0.93        96\n",
      "entertainment       0.95      0.98      0.96        56\n",
      "     politics       0.94      0.94      0.94        67\n",
      "        sport       1.00      1.00      1.00        77\n",
      "         tech       0.95      0.96      0.95        75\n",
      "\n",
      "     accuracy                           0.96       371\n",
      "    macro avg       0.96      0.96      0.96       371\n",
      " weighted avg       0.96      0.96      0.96       371\n",
      "\n"
     ]
    }
   ],
   "source": [
    "fc.eval_clf_testset(lin_svc, X_test_cv, y_test)"
   ]
  },
  {
   "cell_type": "markdown",
   "metadata": {},
   "source": [
    "Ta sẽ thử tìm kiếm dạng lưới với mô hình này với hy vọng sẽ cải thiện được các điểm số đánh giá mà ta quan tâm:"
   ]
  },
  {
   "cell_type": "code",
   "execution_count": 31,
   "metadata": {},
   "outputs": [
    {
     "name": "stdout",
     "output_type": "stream",
     "text": [
      "Grid Search for LinearSVC took 0.08 minutes.\n"
     ]
    }
   ],
   "source": [
    "params_lin_svc = [{'loss': ['hinge', 'squared-hinge'], \n",
    "                   'C': [1, 10, 100, 1000], \n",
    "                   'max_iter': [1000, 5000, 10000],\n",
    "                   'dual': [True, False]}]\n",
    "\n",
    "grid_search_lin_svc = GridSearchCV(LinearSVC(random_state = 42), \n",
    "                                   params_lin_svc, cv=4, n_jobs = -1)\n",
    "t1 = time.time()\n",
    "grid_search_lin_svc.fit(X_train_cv, y_train)\n",
    "t2 = time.time()\n",
    "\n",
    "print('Grid Search for LinearSVC took {:.2f} minutes.'.format((t2 - t1) / 60))"
   ]
  },
  {
   "cell_type": "code",
   "execution_count": 32,
   "metadata": {},
   "outputs": [
    {
     "data": {
      "text/plain": [
       "{'C': 1, 'dual': True, 'loss': 'hinge', 'max_iter': 1000}"
      ]
     },
     "execution_count": 32,
     "metadata": {},
     "output_type": "execute_result"
    }
   ],
   "source": [
    "grid_search_lin_svc.best_params_"
   ]
  },
  {
   "cell_type": "code",
   "execution_count": 33,
   "metadata": {},
   "outputs": [
    {
     "data": {
      "text/plain": [
       "1.0"
      ]
     },
     "execution_count": 33,
     "metadata": {},
     "output_type": "execute_result"
    }
   ],
   "source": [
    "grid_search_lin_svc.score(X_train_cv, y_train)"
   ]
  },
  {
   "cell_type": "code",
   "execution_count": 34,
   "metadata": {},
   "outputs": [
    {
     "data": {
      "text/plain": [
       "0.9757257257257258"
      ]
     },
     "execution_count": 34,
     "metadata": {},
     "output_type": "execute_result"
    }
   ],
   "source": [
    "lin_svc_gr = cross_val_score(grid_search_lin_svc, X_train_cv, y_train, n_jobs = -1)\n",
    "lin_svc_gr.mean()"
   ]
  },
  {
   "cell_type": "code",
   "execution_count": 35,
   "metadata": {},
   "outputs": [
    {
     "name": "stdout",
     "output_type": "stream",
     "text": [
      "----- CLASSIFICATION MODEL PREFOMANCE IN TEST SET-----\n",
      "* R-squared model of Test: 0.9569\n",
      "\n",
      "* Confusion Matrix of Test: \n",
      "[[88  2  4  0  2]\n",
      " [ 0 55  0  0  1]\n",
      " [ 2  1 63  0  1]\n",
      " [ 0  0  0 77  0]\n",
      " [ 3  0  0  0 72]]\n",
      "\n",
      "* Classification Report of Test: \n",
      "               precision    recall  f1-score   support\n",
      "\n",
      "     business       0.95      0.92      0.93        96\n",
      "entertainment       0.95      0.98      0.96        56\n",
      "     politics       0.94      0.94      0.94        67\n",
      "        sport       1.00      1.00      1.00        77\n",
      "         tech       0.95      0.96      0.95        75\n",
      "\n",
      "     accuracy                           0.96       371\n",
      "    macro avg       0.96      0.96      0.96       371\n",
      " weighted avg       0.96      0.96      0.96       371\n",
      "\n"
     ]
    }
   ],
   "source": [
    "fc.eval_clf_testset(grid_search_lin_svc, X_test_cv, y_test)"
   ]
  },
  {
   "cell_type": "markdown",
   "metadata": {},
   "source": [
    "Kết quả tương tự như các tham số mặc định, khác biệt nhỏ ở đây là Tìm kiếm dạng lưới cho thấy hàm loss trong `LinearSVC` là __hinge__."
   ]
  },
  {
   "cell_type": "markdown",
   "metadata": {},
   "source": [
    "Các mô hình độc lập hoạt động khá tốt trên dữ liệu, bây giờ ta sẽ xem các mô hình học _ensemble_ hoạt động ra sao.\n",
    "\n",
    "Khởi đầu với `RandomForestClassifier` và các tham số mặc định:"
   ]
  },
  {
   "cell_type": "code",
   "execution_count": 36,
   "metadata": {},
   "outputs": [
    {
     "name": "stdout",
     "output_type": "stream",
     "text": [
      "RandomForestClassifier training took 0.638s.\n"
     ]
    }
   ],
   "source": [
    "from sklearn.ensemble import RandomForestClassifier\n",
    "\n",
    "forest = RandomForestClassifier(random_state = 42)\n",
    "t1 = time.time()\n",
    "forest.fit(X_train_cv, y_train)\n",
    "t2 = time.time()\n",
    "\n",
    "print('RandomForestClassifier training took {:.3f}s.'.format(t2 - t1))"
   ]
  },
  {
   "cell_type": "code",
   "execution_count": 37,
   "metadata": {},
   "outputs": [
    {
     "data": {
      "text/plain": [
       "1.0"
      ]
     },
     "execution_count": 37,
     "metadata": {},
     "output_type": "execute_result"
    }
   ],
   "source": [
    "forest.score(X_train_cv, y_train)"
   ]
  },
  {
   "cell_type": "markdown",
   "metadata": {},
   "source": [
    "Độ chính xác tuyệt đối! Ta sẽ đánh giá cụ thể hơn bằng kiểm định chéo:\n",
    "\n"
   ]
  },
  {
   "cell_type": "code",
   "execution_count": 38,
   "metadata": {},
   "outputs": [
    {
     "data": {
      "text/plain": [
       "0.9588702338702338"
      ]
     },
     "execution_count": 38,
     "metadata": {},
     "output_type": "execute_result"
    }
   ],
   "source": [
    "forest_score = cross_val_score(forest, X_train_cv, y_train, cv=5)\n",
    "forest_score.mean()"
   ]
  },
  {
   "cell_type": "markdown",
   "metadata": {},
   "source": [
    "Không quá tệ đối với kiểm định 5 fold, ta sẽ xem mô hình hoạt động ra sao trên tập kiểm tra:"
   ]
  },
  {
   "cell_type": "code",
   "execution_count": 39,
   "metadata": {},
   "outputs": [
    {
     "name": "stdout",
     "output_type": "stream",
     "text": [
      "----- CLASSIFICATION MODEL PREFOMANCE IN TEST SET-----\n",
      "* R-squared model of Test: 0.9488\n",
      "\n",
      "* Confusion Matrix of Test: \n",
      "[[94  0  0  0  2]\n",
      " [ 2 52  1  0  1]\n",
      " [ 3  0 63  0  1]\n",
      " [ 1  0  0 76  0]\n",
      " [ 7  1  0  0 67]]\n",
      "\n",
      "* Classification Report of Test: \n",
      "               precision    recall  f1-score   support\n",
      "\n",
      "     business       0.88      0.98      0.93        96\n",
      "entertainment       0.98      0.93      0.95        56\n",
      "     politics       0.98      0.94      0.96        67\n",
      "        sport       1.00      0.99      0.99        77\n",
      "         tech       0.94      0.89      0.92        75\n",
      "\n",
      "     accuracy                           0.95       371\n",
      "    macro avg       0.96      0.95      0.95       371\n",
      " weighted avg       0.95      0.95      0.95       371\n",
      "\n"
     ]
    }
   ],
   "source": [
    "fc.eval_clf_testset(forest, X_test_cv, y_test)"
   ]
  },
  {
   "cell_type": "markdown",
   "metadata": {},
   "source": [
    "Các điểm số đánh giá có vẻ khá thấp nếu so với các kết quả có được từ các mô hình phía trên. \n",
    "\n",
    "Ta sẽ dùng Tìm kiếm dạng lưới để tinh chỉnh các Siêu tham số với hy vọng mô hình sẽ hoạt động tốt hơn: "
   ]
  },
  {
   "cell_type": "code",
   "execution_count": 40,
   "metadata": {},
   "outputs": [
    {
     "name": "stdout",
     "output_type": "stream",
     "text": [
      "Grid Search RandomForestClassifier took 9.070s.\n"
     ]
    }
   ],
   "source": [
    "from sklearn.model_selection import GridSearchCV\n",
    "\n",
    "params_forest = {'n_estimators': [90, 120, 150],\n",
    "                'bootstrap': [True, False], \n",
    "                'max_depth': [1, 3, 5, 7, None]}\n",
    "\n",
    "grid_search_forest = GridSearchCV(RandomForestClassifier(random_state = 42), params_forest, cv=4, n_jobs = -1)\n",
    "t1 = time.time()\n",
    "grid_search_forest.fit(X_train_cv, y_train)\n",
    "t2 = time.time()\n",
    "\n",
    "print('Grid Search RandomForestClassifier took {:.3f}s.'.format(t2 - t1))"
   ]
  },
  {
   "cell_type": "code",
   "execution_count": 41,
   "metadata": {},
   "outputs": [
    {
     "data": {
      "text/plain": [
       "{'bootstrap': False, 'max_depth': None, 'n_estimators': 120}"
      ]
     },
     "execution_count": 41,
     "metadata": {},
     "output_type": "execute_result"
    }
   ],
   "source": [
    "grid_search_forest.best_params_"
   ]
  },
  {
   "cell_type": "code",
   "execution_count": 42,
   "metadata": {},
   "outputs": [
    {
     "name": "stdout",
     "output_type": "stream",
     "text": [
      "----- CLASSIFICATION MODEL PREFOMANCE IN TEST SET-----\n",
      "* R-squared model of Test: 0.9623\n",
      "\n",
      "* Confusion Matrix of Test: \n",
      "[[94  0  0  0  2]\n",
      " [ 2 54  0  0  0]\n",
      " [ 2  0 63  1  1]\n",
      " [ 0  0  0 77  0]\n",
      " [ 6  0  0  0 69]]\n",
      "\n",
      "* Classification Report of Test: \n",
      "               precision    recall  f1-score   support\n",
      "\n",
      "     business       0.90      0.98      0.94        96\n",
      "entertainment       1.00      0.96      0.98        56\n",
      "     politics       1.00      0.94      0.97        67\n",
      "        sport       0.99      1.00      0.99        77\n",
      "         tech       0.96      0.92      0.94        75\n",
      "\n",
      "     accuracy                           0.96       371\n",
      "    macro avg       0.97      0.96      0.96       371\n",
      " weighted avg       0.96      0.96      0.96       371\n",
      "\n"
     ]
    }
   ],
   "source": [
    "fc.eval_clf_testset(grid_search_forest, X_test_cv, y_test)"
   ]
  },
  {
   "cell_type": "code",
   "execution_count": 43,
   "metadata": {},
   "outputs": [
    {
     "data": {
      "text/plain": [
       "0.9662821912821913"
      ]
     },
     "execution_count": 43,
     "metadata": {},
     "output_type": "execute_result"
    }
   ],
   "source": [
    "forest_gr_score = cross_val_score(grid_search_forest, X_train_cv, y_train, cv=5)\n",
    "forest_gr_score.mean()"
   ]
  },
  {
   "cell_type": "markdown",
   "metadata": {},
   "source": [
    "Kết quả có vẻ khả quan hơn so với các tham số mặc định, độ chính xác và f1-score cải thiện từ 1 - 2%."
   ]
  },
  {
   "cell_type": "markdown",
   "metadata": {},
   "source": [
    "Một lựa chọn khác cho việc sử dụng Cây Quyết định trong lớp _ensemble_ của Sklearn là mô hình Cây Siêu ngẫu nhiên `ExtraTreesClassifier`\n",
    "\n",
    "`ExtraTreesClassifier` sử dụng ngưỡng ngẫu nhiên đối với từng đặc trưng thay vì tìm kiếm các ngưỡng tốt nhất nên thời gian chạy thuật toán sẽ rút ngắn so với `Decision Tree`:"
   ]
  },
  {
   "cell_type": "code",
   "execution_count": 44,
   "metadata": {},
   "outputs": [
    {
     "name": "stdout",
     "output_type": "stream",
     "text": [
      "ExtraTreesClassifier training took 1.109s.\n"
     ]
    }
   ],
   "source": [
    "from sklearn.ensemble import ExtraTreesClassifier\n",
    "\n",
    "trees = ExtraTreesClassifier(n_estimators = 120, random_state = 42)\n",
    "t1 = time.time()\n",
    "trees.fit(X_train_cv, y_train)\n",
    "t2 = time.time()\n",
    "\n",
    "print('ExtraTreesClassifier training took {:.3f}s.'.format(t2 - t1))"
   ]
  },
  {
   "cell_type": "code",
   "execution_count": 45,
   "metadata": {},
   "outputs": [
    {
     "data": {
      "text/plain": [
       "1.0"
      ]
     },
     "execution_count": 45,
     "metadata": {},
     "output_type": "execute_result"
    }
   ],
   "source": [
    "trees.score(X_train_cv, y_train)"
   ]
  },
  {
   "cell_type": "code",
   "execution_count": 46,
   "metadata": {},
   "outputs": [
    {
     "data": {
      "text/plain": [
       "0.9662821912821913"
      ]
     },
     "execution_count": 46,
     "metadata": {},
     "output_type": "execute_result"
    }
   ],
   "source": [
    "trees_score = cross_val_score(trees, X_train_cv, y_train, cv=5)\n",
    "trees_score.mean()"
   ]
  },
  {
   "cell_type": "code",
   "execution_count": 47,
   "metadata": {},
   "outputs": [
    {
     "name": "stdout",
     "output_type": "stream",
     "text": [
      "----- CLASSIFICATION MODEL PREFOMANCE IN TEST SET-----\n",
      "* R-squared model of Test: 0.9515\n",
      "\n",
      "* Confusion Matrix of Test: \n",
      "[[95  0  0  0  1]\n",
      " [ 2 53  1  0  0]\n",
      " [ 6  0 60  0  1]\n",
      " [ 0  0  0 77  0]\n",
      " [ 6  1  0  0 68]]\n",
      "\n",
      "* Classification Report of Test: \n",
      "               precision    recall  f1-score   support\n",
      "\n",
      "     business       0.87      0.99      0.93        96\n",
      "entertainment       0.98      0.95      0.96        56\n",
      "     politics       0.98      0.90      0.94        67\n",
      "        sport       1.00      1.00      1.00        77\n",
      "         tech       0.97      0.91      0.94        75\n",
      "\n",
      "     accuracy                           0.95       371\n",
      "    macro avg       0.96      0.95      0.95       371\n",
      " weighted avg       0.96      0.95      0.95       371\n",
      "\n"
     ]
    }
   ],
   "source": [
    "fc.eval_clf_testset(trees, X_test_cv, y_test)"
   ]
  },
  {
   "cell_type": "markdown",
   "metadata": {},
   "source": [
    "Không tệ, ta sẽ tinh chỉnh mô hình bằng Tìm kiếm dạng lưới để tìm kiếm mức hiệu suất cao hơn cho các chỉ số đánh giá:"
   ]
  },
  {
   "cell_type": "code",
   "execution_count": 48,
   "metadata": {},
   "outputs": [
    {
     "name": "stdout",
     "output_type": "stream",
     "text": [
      "Grid Search ExtraTreesClassifier took 24.138s.\n"
     ]
    }
   ],
   "source": [
    "params_trees = {'n_estimators': [90, 120, 300, 350],\n",
    "                'bootstrap': [True, False], \n",
    "                'max_depth': [1, 3, 5, 7, None]}\n",
    "\n",
    "grid_search_trees = GridSearchCV(ExtraTreesClassifier(random_state = 42), params_trees, cv=4, n_jobs = -1)\n",
    "t1 = time.time()\n",
    "grid_search_trees.fit(X_train_cv, y_train)\n",
    "t2 = time.time()\n",
    "\n",
    "print('Grid Search ExtraTreesClassifier took {:.3f}s.'.format(t2 - t1))"
   ]
  },
  {
   "cell_type": "code",
   "execution_count": 49,
   "metadata": {},
   "outputs": [
    {
     "data": {
      "text/plain": [
       "{'bootstrap': False, 'max_depth': None, 'n_estimators': 300}"
      ]
     },
     "execution_count": 49,
     "metadata": {},
     "output_type": "execute_result"
    }
   ],
   "source": [
    "grid_search_trees.best_params_"
   ]
  },
  {
   "cell_type": "code",
   "execution_count": 50,
   "metadata": {},
   "outputs": [
    {
     "data": {
      "text/plain": [
       "0.9696560196560198"
      ]
     },
     "execution_count": 50,
     "metadata": {},
     "output_type": "execute_result"
    }
   ],
   "source": [
    "trees_gr_score = cross_val_score(grid_search_trees, X_train_cv, y_train, cv=5, n_jobs = -1)\n",
    "trees_gr_score.mean()"
   ]
  },
  {
   "cell_type": "code",
   "execution_count": 51,
   "metadata": {
    "scrolled": false
   },
   "outputs": [
    {
     "name": "stdout",
     "output_type": "stream",
     "text": [
      "----- CLASSIFICATION MODEL PREFOMANCE IN TEST SET-----\n",
      "* R-squared model of Test: 0.9569\n",
      "\n",
      "* Confusion Matrix of Test: \n",
      "[[95  0  0  0  1]\n",
      " [ 2 53  1  0  0]\n",
      " [ 5  0 61  0  1]\n",
      " [ 0  0  0 77  0]\n",
      " [ 5  1  0  0 69]]\n",
      "\n",
      "* Classification Report of Test: \n",
      "               precision    recall  f1-score   support\n",
      "\n",
      "     business       0.89      0.99      0.94        96\n",
      "entertainment       0.98      0.95      0.96        56\n",
      "     politics       0.98      0.91      0.95        67\n",
      "        sport       1.00      1.00      1.00        77\n",
      "         tech       0.97      0.92      0.95        75\n",
      "\n",
      "     accuracy                           0.96       371\n",
      "    macro avg       0.97      0.95      0.96       371\n",
      " weighted avg       0.96      0.96      0.96       371\n",
      "\n"
     ]
    }
   ],
   "source": [
    "fc.eval_clf_testset(grid_search_trees, X_test_cv, y_test)"
   ]
  },
  {
   "cell_type": "markdown",
   "metadata": {},
   "source": [
    "Điểm số của các phép đo chất lượng đều cải thiện hơn so với khi sử dụng các siêu tham số mặc định."
   ]
  },
  {
   "cell_type": "markdown",
   "metadata": {},
   "source": [
    "Hai thuật toán mạnh mẽ trong lớp _ensemble_ của Sklearn mang lại kết quả khá tốt.\n",
    "\n",
    "\n",
    "Ta sẽ sử dụng thêm một phương pháp học _ensemble_ khác khá phổ biến: __Boosting__\n",
    "\n",
    "Bắt đầu với `AdaBoostClassifier`, thay vì sử dụng Cây Quyết định làm lớp cơ sở, ta sẽ thay bằng Rừng ngẫu nhiên với các tham số ta đã tinh chỉnh:"
   ]
  },
  {
   "cell_type": "code",
   "execution_count": 52,
   "metadata": {},
   "outputs": [
    {
     "name": "stdout",
     "output_type": "stream",
     "text": [
      "AdaBoostClassifier training took 2.089s.\n"
     ]
    }
   ],
   "source": [
    "from sklearn.ensemble import AdaBoostClassifier\n",
    "\n",
    "ada_clf = AdaBoostClassifier(RandomForestClassifier(n_estimators = 120, bootstrap = False), \n",
    "                             learning_rate = 0.5, n_estimators = 100, random_state = 42)\n",
    "t1 = time.time()\n",
    "ada_clf.fit(X_train_cv, y_train)\n",
    "t2 = time.time()\n",
    "\n",
    "print('AdaBoostClassifier training took {:.3f}s.'.format(t2 - t1))"
   ]
  },
  {
   "cell_type": "code",
   "execution_count": 53,
   "metadata": {},
   "outputs": [
    {
     "data": {
      "text/plain": [
       "1.0"
      ]
     },
     "execution_count": 53,
     "metadata": {},
     "output_type": "execute_result"
    }
   ],
   "source": [
    "ada_clf.score(X_train_cv, y_train)"
   ]
  },
  {
   "cell_type": "code",
   "execution_count": 54,
   "metadata": {},
   "outputs": [
    {
     "data": {
      "text/plain": [
       "0.9629083629083629"
      ]
     },
     "execution_count": 54,
     "metadata": {},
     "output_type": "execute_result"
    }
   ],
   "source": [
    "ada_clf_score = cross_val_score(ada_clf, X_train_cv, y_train)\n",
    "ada_clf_score.mean()"
   ]
  },
  {
   "cell_type": "code",
   "execution_count": 55,
   "metadata": {},
   "outputs": [
    {
     "name": "stdout",
     "output_type": "stream",
     "text": [
      "----- CLASSIFICATION MODEL PREFOMANCE IN TEST SET-----\n",
      "* R-squared model of Test: 0.9596\n",
      "\n",
      "* Confusion Matrix of Test: \n",
      "[[94  0  0  0  2]\n",
      " [ 1 54  1  0  0]\n",
      " [ 3  1 62  0  1]\n",
      " [ 0  0  0 77  0]\n",
      " [ 5  0  1  0 69]]\n",
      "\n",
      "* Classification Report of Test: \n",
      "               precision    recall  f1-score   support\n",
      "\n",
      "     business       0.91      0.98      0.94        96\n",
      "entertainment       0.98      0.96      0.97        56\n",
      "     politics       0.97      0.93      0.95        67\n",
      "        sport       1.00      1.00      1.00        77\n",
      "         tech       0.96      0.92      0.94        75\n",
      "\n",
      "     accuracy                           0.96       371\n",
      "    macro avg       0.96      0.96      0.96       371\n",
      " weighted avg       0.96      0.96      0.96       371\n",
      "\n"
     ]
    }
   ],
   "source": [
    "fc.eval_clf_testset(ada_clf, X_test_cv, y_test)"
   ]
  },
  {
   "cell_type": "markdown",
   "metadata": {},
   "source": [
    "Mô hình `AdaBoostClassifier` huấn luyện khá nhanh và kết quả cũng tương đối tốt.\n",
    "\n",
    "Bây giờ ta sẽ xem `XGBoost` hoạt động ra sao trên tập huấn luyện:"
   ]
  },
  {
   "cell_type": "code",
   "execution_count": 56,
   "metadata": {},
   "outputs": [
    {
     "name": "stdout",
     "output_type": "stream",
     "text": [
      "[12:46:35] WARNING: /opt/concourse/worker/volumes/live/7a2b9f41-3287-451b-6691-43e9a6c0910f/volume/xgboost-split_1619728204606/work/src/learner.cc:1061: Starting in XGBoost 1.3.0, the default evaluation metric used with the objective 'multi:softprob' was changed from 'merror' to 'mlogloss'. Explicitly set eval_metric if you'd like to restore the old behavior.\n"
     ]
    },
    {
     "data": {
      "text/plain": [
       "XGBClassifier(base_score=0.5, booster='gbtree', colsample_bylevel=1,\n",
       "              colsample_bynode=1, colsample_bytree=1, gamma=0, gpu_id=-1,\n",
       "              importance_type='gain', interaction_constraints='',\n",
       "              learning_rate=0.300000012, max_delta_step=0, max_depth=6,\n",
       "              min_child_weight=1, missing=nan, monotone_constraints='()',\n",
       "              n_estimators=100, n_jobs=12, num_parallel_tree=1,\n",
       "              objective='multi:softprob', random_state=42, reg_alpha=0,\n",
       "              reg_lambda=1, scale_pos_weight=None, subsample=1,\n",
       "              tree_method='exact', validate_parameters=1, verbosity=None)"
      ]
     },
     "execution_count": 56,
     "metadata": {},
     "output_type": "execute_result"
    }
   ],
   "source": [
    "import xgboost as xgb\n",
    "\n",
    "xgb_clf = xgb.XGBClassifier(random_state = 42)\n",
    "xgb_clf.fit(X_train_cv, y_train)"
   ]
  },
  {
   "cell_type": "code",
   "execution_count": 57,
   "metadata": {},
   "outputs": [
    {
     "data": {
      "text/plain": [
       "1.0"
      ]
     },
     "execution_count": 57,
     "metadata": {},
     "output_type": "execute_result"
    }
   ],
   "source": [
    "xgb_clf.score(X_train_cv, y_train)"
   ]
  },
  {
   "cell_type": "code",
   "execution_count": 58,
   "metadata": {
    "scrolled": false
   },
   "outputs": [
    {
     "name": "stdout",
     "output_type": "stream",
     "text": [
      "[12:46:42] WARNING: /opt/concourse/worker/volumes/live/7a2b9f41-3287-451b-6691-43e9a6c0910f/volume/xgboost-split_1619728204606/work/src/learner.cc:1061: Starting in XGBoost 1.3.0, the default evaluation metric used with the objective 'multi:softprob' was changed from 'merror' to 'mlogloss'. Explicitly set eval_metric if you'd like to restore the old behavior.\n",
      "[12:46:45] WARNING: /opt/concourse/worker/volumes/live/7a2b9f41-3287-451b-6691-43e9a6c0910f/volume/xgboost-split_1619728204606/work/src/learner.cc:1061: Starting in XGBoost 1.3.0, the default evaluation metric used with the objective 'multi:softprob' was changed from 'merror' to 'mlogloss'. Explicitly set eval_metric if you'd like to restore the old behavior.\n",
      "[12:46:48] WARNING: /opt/concourse/worker/volumes/live/7a2b9f41-3287-451b-6691-43e9a6c0910f/volume/xgboost-split_1619728204606/work/src/learner.cc:1061: Starting in XGBoost 1.3.0, the default evaluation metric used with the objective 'multi:softprob' was changed from 'merror' to 'mlogloss'. Explicitly set eval_metric if you'd like to restore the old behavior.\n",
      "[12:46:51] WARNING: /opt/concourse/worker/volumes/live/7a2b9f41-3287-451b-6691-43e9a6c0910f/volume/xgboost-split_1619728204606/work/src/learner.cc:1061: Starting in XGBoost 1.3.0, the default evaluation metric used with the objective 'multi:softprob' was changed from 'merror' to 'mlogloss'. Explicitly set eval_metric if you'd like to restore the old behavior.\n",
      "[12:46:54] WARNING: /opt/concourse/worker/volumes/live/7a2b9f41-3287-451b-6691-43e9a6c0910f/volume/xgboost-split_1619728204606/work/src/learner.cc:1061: Starting in XGBoost 1.3.0, the default evaluation metric used with the objective 'multi:softprob' was changed from 'merror' to 'mlogloss'. Explicitly set eval_metric if you'd like to restore the old behavior.\n"
     ]
    },
    {
     "data": {
      "text/plain": [
       "0.9561561561561561"
      ]
     },
     "execution_count": 58,
     "metadata": {},
     "output_type": "execute_result"
    }
   ],
   "source": [
    "xgb_clf_score = cross_val_score(xgb_clf, X_train_cv, y_train)\n",
    "xgb_clf_score.mean()"
   ]
  },
  {
   "cell_type": "code",
   "execution_count": 59,
   "metadata": {},
   "outputs": [
    {
     "name": "stdout",
     "output_type": "stream",
     "text": [
      "----- CLASSIFICATION MODEL PREFOMANCE IN TEST SET-----\n",
      "* R-squared model of Test: 0.9461\n",
      "\n",
      "* Confusion Matrix of Test: \n",
      "[[90  1  2  0  3]\n",
      " [ 1 54  0  0  1]\n",
      " [ 2  0 62  1  2]\n",
      " [ 1  0  0 76  0]\n",
      " [ 5  0  1  0 69]]\n",
      "\n",
      "* Classification Report of Test: \n",
      "               precision    recall  f1-score   support\n",
      "\n",
      "     business       0.91      0.94      0.92        96\n",
      "entertainment       0.98      0.96      0.97        56\n",
      "     politics       0.95      0.93      0.94        67\n",
      "        sport       0.99      0.99      0.99        77\n",
      "         tech       0.92      0.92      0.92        75\n",
      "\n",
      "     accuracy                           0.95       371\n",
      "    macro avg       0.95      0.95      0.95       371\n",
      " weighted avg       0.95      0.95      0.95       371\n",
      "\n"
     ]
    }
   ],
   "source": [
    "fc.eval_clf_testset(xgb_clf, X_test_cv, y_test)"
   ]
  },
  {
   "cell_type": "markdown",
   "metadata": {},
   "source": [
    "`XGBoost` khớp dữ liệu tương đối tốt tuy nhiên mô hình này quá khớp nặng hơn so với các mô hình ta đã triển khai bên trên.\n",
    "\n",
    "\n",
    "Ta sẽ tổng kết lại điểm số của các mô hình ta vừa triển khai để có cái nhìn tổng quan hơn:"
   ]
  },
  {
   "cell_type": "code",
   "execution_count": 60,
   "metadata": {},
   "outputs": [
    {
     "data": {
      "image/png": "[encoded data removed]",
      "text/plain": [
       "<Figure size 864x576 with 1 Axes>"
      ]
     },
     "metadata": {
      "needs_background": "light"
     },
     "output_type": "display_data"
    }
   ],
   "source": [
    "plt.figure(figsize = (12, 8))\n",
    "plt.plot([1] * 5, multiNB_score, '.')\n",
    "plt.plot([2] * 5, logit_score, '.')\n",
    "plt.plot([3] * 5, svc_gr_score, '.')\n",
    "plt.plot([4] * 5, lin_svc_gr, '.')\n",
    "plt.plot([5] * 5, forest_gr_score, '.')\n",
    "plt.plot([6] * 5, trees_gr_score, '.')\n",
    "plt.plot([7] * 5, ada_clf_score, '.')\n",
    "plt.plot([8] * 5, xgb_clf_score, '.')\n",
    "plt.boxplot([multiNB_score, logit_score, svc_gr_score, lin_svc_gr, \n",
    "             forest_gr_score, trees_gr_score, ada_clf_score, xgb_clf_score],\n",
    "           labels = ['Multinomial', 'Logistic', 'SVC', 'LinearSVC', \n",
    "                     'Random Forest', 'Extra Trees', 'AdaBoost', 'XGBoost'])\n",
    "plt.ylabel('Accuracy', fontsize = 15)\n",
    "plt.ylim([0.94, 1])\n",
    "plt.grid(True)\n",
    "plt.title('Classification Model Performance by Accuracy Score \\n', fontsize = 18, color = 'b');"
   ]
  },
  {
   "cell_type": "markdown",
   "metadata": {},
   "source": [
    "Biểu đồ trên đánh giá độ chính xác trên 5 fold kiểm định chéo trên tập huấn luyện.  Nhìn chung, các bộ phân loại mà ta sử dụng hoạt động khá tốt trên tập huấn luyện, độ chính xác >= 96%. Có thể thấy các bộ phân loại đơn lẻ hoạt động tốt hơn một chút so với các bộ phân loại kết hợp.\n",
    "\n",
    "\n",
    "Việc chọn ra một thuật toán phân loại tốt nhất cho tập huấn luyện trên có vẻ hơi khó khăn một chút, vì các chỉ số đánh giá một bộ phân loại mà ta quan tâm trong trường hợp này không hẳn chỉ dựa trên _accuracy score_. Việc quan tâm đến _precision, recall, f1-score_ trên từng lớp sẽ cho cái nhìn tổng quát hơn.\n",
    "\n",
    "Một cách tiếp cận cho trường hợp này là kết hợp các bộ phân loại với nhau thành một bộ phân loại biểu quyết. Điều này có vẻ khả thi vì trên cùng một bộ dữ liệu, ta đã huấn luyện 8 bộ phân loại độc lập khác nhau, điều này làm tăng khả năng các bộ phân loại này mắc phải những lỗi rất khác nhau. Việc kết hợp các bộ phân loại này thành một bộ phân loại ___ensemble___ có thể cải thiện độ chính xác và các chỉ số đánh giá khác.\n",
    "\n",
    "Ta sẽ xây dựng một bộ phân loại biểu quyết với các mô hình dự đoán phía trên kèm theo các siêu tham số đã được tinh chỉnh của chúng. Để rút ngắn thời gian huấn luyện và tăng hiệu quả cho bộ phân loại biểu quyết, ta sẽ loại ra bộ phân loại nào có độ chính xác trên bất kỳ fold kiểm định chéo nào dưới 95%: `XGBoost` bị loại.\n",
    "\n",
    "\n",
    "Bắt đầu với `Voting Classifier` trong lớp _ensemble_ của Sklearn:"
   ]
  },
  {
   "cell_type": "code",
   "execution_count": 61,
   "metadata": {},
   "outputs": [
    {
     "name": "stdout",
     "output_type": "stream",
     "text": [
      "Voting Classifier training took 7.73s.\n"
     ]
    }
   ],
   "source": [
    "from sklearn.ensemble import VotingClassifier\n",
    "\n",
    "multiNB = MultinomialNB()\n",
    "logit_clf = LogisticRegression(multi_class = 'ovr', random_state = 42)\n",
    "svc = SVC(kernel = 'linear', C=1, gamma=0.001, probability = True, random_state = 42)\n",
    "lin_svc = LinearSVC(loss = 'hinge', random_state = 42)\n",
    "forest_clf = RandomForestClassifier(n_estimators = 120, bootstrap = False, random_state = 42)\n",
    "trees_clf = ExtraTreesClassifier(n_estimators = 300, random_state = 42)\n",
    "ada_clf = AdaBoostClassifier(RandomForestClassifier(n_estimators = 120, bootstrap = False), \n",
    "                             learning_rate = 0.5, n_estimators = 50, random_state = 42)\n",
    "\n",
    "named_estimators = [('multiNB', multiNB),\n",
    "                    ('logit_clf', logit_clf),\n",
    "                    ('svc', svc),\n",
    "                    ('lin_svc', lin_svc),\n",
    "                    ('forest_clf', forest_clf),\n",
    "                    ('trees_clf', trees_clf),\n",
    "                    ('ada_clf', ada_clf)]\n",
    "\n",
    "voting_clf = VotingClassifier(named_estimators, n_jobs=-1)\n",
    "t1 = time.time()\n",
    "voting_clf.fit(X_train_cv, y_train)\n",
    "t2 = time.time()\n",
    "\n",
    "print('Voting Classifier training took {:.2f}s.'.format(t2 - t1))"
   ]
  },
  {
   "cell_type": "code",
   "execution_count": 62,
   "metadata": {},
   "outputs": [
    {
     "data": {
      "text/plain": [
       "1.0"
      ]
     },
     "execution_count": 62,
     "metadata": {},
     "output_type": "execute_result"
    }
   ],
   "source": [
    "voting_clf.score(X_train_cv, y_train)"
   ]
  },
  {
   "cell_type": "code",
   "execution_count": 63,
   "metadata": {},
   "outputs": [
    {
     "name": "stdout",
     "output_type": "stream",
     "text": [
      "Voting Score: 0.981122031122031\n",
      "Voting Classifier cross-validation took 29.97s.\n"
     ]
    }
   ],
   "source": [
    "t1 = time.time()\n",
    "voting_clf_score = cross_val_score(voting_clf, X_train_cv, y_train, cv=5)\n",
    "t2 = time.time()\n",
    "\n",
    "print('Voting Score: {}'.format(voting_clf_score.mean()))\n",
    "print('Voting Classifier cross-validation took {:.2f}s.'.format(t2 - t1))"
   ]
  },
  {
   "cell_type": "markdown",
   "metadata": {},
   "source": [
    "Trung bình điểm số đánh giá trên 5 fold cao hơn hẳn so với bất kỳ bộ phân loại nào trước đó.\n",
    "\n",
    "Ta sẽ xem mô hình hoạt động ra sao trên tập kiểm tra:"
   ]
  },
  {
   "cell_type": "code",
   "execution_count": 64,
   "metadata": {},
   "outputs": [
    {
     "name": "stdout",
     "output_type": "stream",
     "text": [
      "----- CLASSIFICATION MODEL PREFOMANCE IN TEST SET-----\n",
      "* R-squared model of Test: 0.965\n",
      "\n",
      "* Confusion Matrix of Test: \n",
      "[[93  0  1  0  2]\n",
      " [ 1 54  1  0  0]\n",
      " [ 2  1 63  0  1]\n",
      " [ 0  0  0 77  0]\n",
      " [ 3  0  1  0 71]]\n",
      "\n",
      "* Classification Report of Test: \n",
      "               precision    recall  f1-score   support\n",
      "\n",
      "     business       0.94      0.97      0.95        96\n",
      "entertainment       0.98      0.96      0.97        56\n",
      "     politics       0.95      0.94      0.95        67\n",
      "        sport       1.00      1.00      1.00        77\n",
      "         tech       0.96      0.95      0.95        75\n",
      "\n",
      "     accuracy                           0.96       371\n",
      "    macro avg       0.97      0.96      0.97       371\n",
      " weighted avg       0.97      0.96      0.96       371\n",
      "\n"
     ]
    }
   ],
   "source": [
    "fc.eval_clf_testset(voting_clf, X_test_cv, y_test)"
   ]
  },
  {
   "cell_type": "markdown",
   "metadata": {},
   "source": [
    "Độ chính xác trên tập kiểm tra khá ổn."
   ]
  },
  {
   "cell_type": "code",
   "execution_count": 65,
   "metadata": {},
   "outputs": [
    {
     "data": {
      "image/png": "[encoded data removed]",
      "text/plain": [
       "<Figure size 864x576 with 1 Axes>"
      ]
     },
     "metadata": {
      "needs_background": "light"
     },
     "output_type": "display_data"
    }
   ],
   "source": [
    "plt.figure(figsize = (12, 8))\n",
    "plt.plot([1] * 5, multiNB_score, '.')\n",
    "plt.plot([2] * 5, logit_score, '.')\n",
    "plt.plot([3] * 5, svc_gr_score, '.')\n",
    "plt.plot([4] * 5, lin_svc_gr, '.')\n",
    "plt.plot([5] * 5, forest_gr_score, '.')\n",
    "plt.plot([6] * 5, trees_gr_score, '.')\n",
    "plt.plot([7] * 5, ada_clf_score, '.')\n",
    "plt.plot([8] * 5, xgb_clf_score, '.')\n",
    "plt.plot([9] * 5, voting_clf_score, '.')\n",
    "plt.boxplot([multiNB_score, logit_score, svc_gr_score, lin_svc_gr, \n",
    "             forest_gr_score, trees_gr_score, ada_clf_score, xgb_clf_score, voting_clf_score],\n",
    "           labels = ['Multinomial', 'Logistic', 'SVC', 'LinearSVC', \n",
    "                     'Random Forest', 'Extra Trees', 'AdaBoost', 'XGBoost', 'VOTING'])\n",
    "plt.ylabel('Accuracy', fontsize = 15)\n",
    "plt.ylim([0.94, 1])\n",
    "plt.grid(True)\n",
    "plt.title('Classification Model Performance by Accuracy Score \\n', fontsize = 18, color = 'b');"
   ]
  },
  {
   "cell_type": "markdown",
   "metadata": {},
   "source": [
    "Biểu đồ trên cho thấy bộ phân loại biểu quyết có độ chính xác trên kiểm định chéo cao hơn và ít biến động hơn so với các bộ phân loại khác."
   ]
  },
  {
   "cell_type": "markdown",
   "metadata": {},
   "source": [
    "Bộ phân loại biểu quyết có thể là mô hình phân loại khá ổn cho đến thời điểm này.\n",
    "\n",
    "Bộ phân loại biểu quyết mà ta đang sử dụng dựa trên biểu quyết cứng _(hard voting)_. Ta sẽ thay đổi thành bộ biểu quyết mềm _(soft voting)_ với hy vọng độ chính xác sẽ cải thiện hơn:\n",
    "\n",
    "- _Soft voting_ thường đạt chất lượng cao hơn vì sử dụng phương thức ước tính xác suất của từng lớp, đồng thời, các biểu quyết có độ tin cậy cao  sẽ được gán trọng số lớn hơn.\n",
    "- Các bộ phân loại ta đã sử dụng mặc định đều có phương thức `predict_proba`, ngoại trừ `SVC` và `LinearSVC`. Đối với `SVC`, ta sẽ chỉnh tham số `probability = True` để có phương thức ước tính xác suất các lớp, đánh đổi bằng thời gian huấn luyện lâu hơn.\n",
    "- Đối với `LinearSVC`, thuật toán này không có phương thức `predict_proba`, ta sẽ xem xét loại ra khỏi bộ phân loại biểu quyết vì hai lý do:\n",
    "    1. `LinearSVC` không có phương thức ước tính xác suất như đã nói ở trên, đồng thời hiệu suất của `LinearSVC` gần như tương tự `SVC`.\n",
    "    2. Việc giữ lại `SVC` thay vì `LinearSVC` sẽ khiến thời gian huấn luyện của bộ phân loại biểu quyết chậm đi một chút. Tuy nhiên, `SVC` lại phù hợp với các bộ dữ liệu vừa và nhỏ, đồng thời mở rộng tốt với _sparse matrix_ / _sparse features_ , khá phù hợp với bộ dữ liệu trong bài toán này."
   ]
  },
  {
   "cell_type": "code",
   "execution_count": 66,
   "metadata": {},
   "outputs": [
    {
     "name": "stdout",
     "output_type": "stream",
     "text": [
      "Voting Modified training took 8.31s.\n"
     ]
    }
   ],
   "source": [
    "named_estimators1 = [('multiNB', multiNB),\n",
    "                    ('logit_clf', logit_clf),\n",
    "                    ('svc', svc),\n",
    "                    ('forest_clf', forest_clf),\n",
    "                    ('trees_clf', trees_clf),\n",
    "                    ('ada_clf', ada_clf)]\n",
    "\n",
    "voting_modified = VotingClassifier(named_estimators1, n_jobs=-1)\n",
    "t1 = time.time()\n",
    "voting_modified.fit(X_train_cv, y_train)\n",
    "t2 = time.time()\n",
    "\n",
    "print('Voting Modified training took {:.2f}s.'.format(t2 - t1))"
   ]
  },
  {
   "cell_type": "markdown",
   "metadata": {},
   "source": [
    "Mô hình biểu quyết này vẫn là ___hard voting___ , ta sẽ so sánh với ___soft voting___ :"
   ]
  },
  {
   "cell_type": "code",
   "execution_count": 67,
   "metadata": {},
   "outputs": [
    {
     "name": "stdout",
     "output_type": "stream",
     "text": [
      "Hard Voting score: 0.976\n",
      "Hard Voting time: 28.924309015274048\n"
     ]
    }
   ],
   "source": [
    "t1 = time.time()\n",
    "hard_score = cross_val_score(voting_modified, X_train_cv, y_train)\n",
    "t2 = time.time()\n",
    "print('Hard Voting score: {:.3f}'.format(hard_score.mean()))\n",
    "print('Hard Voting time: {}'.format(t2 - t1))"
   ]
  },
  {
   "cell_type": "code",
   "execution_count": 68,
   "metadata": {},
   "outputs": [
    {
     "name": "stdout",
     "output_type": "stream",
     "text": [
      "----- CLASSIFICATION MODEL PREFOMANCE IN TEST SET-----\n",
      "* R-squared model of Test: 0.965\n",
      "\n",
      "* Confusion Matrix of Test: \n",
      "[[94  0  0  0  2]\n",
      " [ 1 54  1  0  0]\n",
      " [ 3  1 62  0  1]\n",
      " [ 0  0  0 77  0]\n",
      " [ 3  0  1  0 71]]\n",
      "\n",
      "* Classification Report of Test: \n",
      "               precision    recall  f1-score   support\n",
      "\n",
      "     business       0.93      0.98      0.95        96\n",
      "entertainment       0.98      0.96      0.97        56\n",
      "     politics       0.97      0.93      0.95        67\n",
      "        sport       1.00      1.00      1.00        77\n",
      "         tech       0.96      0.95      0.95        75\n",
      "\n",
      "     accuracy                           0.96       371\n",
      "    macro avg       0.97      0.96      0.97       371\n",
      " weighted avg       0.97      0.96      0.96       371\n",
      "\n"
     ]
    }
   ],
   "source": [
    "fc.eval_clf_testset(voting_modified, X_test_cv, y_test)"
   ]
  },
  {
   "cell_type": "markdown",
   "metadata": {},
   "source": [
    "Bây giờ ta sẽ đổi thành bộ phân loại biểu quyết ___soft voting___ :"
   ]
  },
  {
   "cell_type": "code",
   "execution_count": 69,
   "metadata": {},
   "outputs": [],
   "source": [
    "voting_modified.voting = 'soft'"
   ]
  },
  {
   "cell_type": "code",
   "execution_count": 70,
   "metadata": {},
   "outputs": [
    {
     "name": "stdout",
     "output_type": "stream",
     "text": [
      "Voting Soft score: 0.982\n",
      "Voting Soft time: 30.120269060134888\n"
     ]
    }
   ],
   "source": [
    "t1 = time.time()\n",
    "soft_score = cross_val_score(voting_modified, X_train_cv, y_train)\n",
    "t2 = time.time()\n",
    "\n",
    "print('Voting Soft score: {:.3f}'.format(soft_score.mean()))\n",
    "print('Voting Soft time: {}'.format(t2 - t1))"
   ]
  },
  {
   "cell_type": "code",
   "execution_count": 71,
   "metadata": {},
   "outputs": [
    {
     "name": "stdout",
     "output_type": "stream",
     "text": [
      "----- CLASSIFICATION MODEL PREFOMANCE IN TEST SET-----\n",
      "* R-squared model of Test: 0.9596\n",
      "\n",
      "* Confusion Matrix of Test: \n",
      "[[91  1  2  0  2]\n",
      " [ 0 55  1  0  0]\n",
      " [ 2  1 63  0  1]\n",
      " [ 1  0  0 76  0]\n",
      " [ 3  0  1  0 71]]\n",
      "\n",
      "* Classification Report of Test: \n",
      "               precision    recall  f1-score   support\n",
      "\n",
      "     business       0.94      0.95      0.94        96\n",
      "entertainment       0.96      0.98      0.97        56\n",
      "     politics       0.94      0.94      0.94        67\n",
      "        sport       1.00      0.99      0.99        77\n",
      "         tech       0.96      0.95      0.95        75\n",
      "\n",
      "     accuracy                           0.96       371\n",
      "    macro avg       0.96      0.96      0.96       371\n",
      " weighted avg       0.96      0.96      0.96       371\n",
      "\n"
     ]
    }
   ],
   "source": [
    "fc.eval_clf_testset(voting_modified, X_test_cv, y_test)"
   ]
  },
  {
   "cell_type": "markdown",
   "metadata": {},
   "source": [
    "Kiểm định chéo với ___soft voting___ cho kết quả cao hơn so với ___hard voting___ . Ta sẽ dùng bộ phân loại biểu quyết với phương thức `soft voting` để lưu model và đánh giá trên dữ liệu mới."
   ]
  },
  {
   "cell_type": "markdown",
   "metadata": {},
   "source": [
    "Ta sẽ lưu mô hình phân loại này trong một `Pipeline` bao gồm `CountVectorizer` để xử lý dữ liệu văn bản và `Bộ phân loại biểu quyết - Voting Modified` ta đã chọn phía trên."
   ]
  },
  {
   "cell_type": "code",
   "execution_count": 72,
   "metadata": {},
   "outputs": [],
   "source": [
    "from sklearn.pipeline import Pipeline\n",
    "\n",
    "full_pipeline = Pipeline([('cv', cv),\n",
    "                          ('voting_clf', voting_modified)])"
   ]
  },
  {
   "cell_type": "markdown",
   "metadata": {},
   "source": [
    "Hàm lưu mô hình đã được viết trong thư viện __Lib__."
   ]
  },
  {
   "cell_type": "code",
   "execution_count": 73,
   "metadata": {},
   "outputs": [],
   "source": [
    "fc.save_model(full_pipeline, 'Text_Classification_VuTranHoaiHan.pkl')"
   ]
  },
  {
   "cell_type": "code",
   "execution_count": null,
   "metadata": {},
   "outputs": [],
   "source": []
  }
 ],
 "metadata": {
  "kernelspec": {
   "display_name": "Python 3",
   "language": "python",
   "name": "python3"
  },
  "language_info": {
   "codemirror_mode": {
    "name": "ipython",
    "version": 3
   },
   "file_extension": ".py",
   "mimetype": "text/x-python",
   "name": "python",
   "nbconvert_exporter": "python",
   "pygments_lexer": "ipython3",
   "version": "3.8.10"
  }
 },
 "nbformat": 4,
 "nbformat_minor": 4
}
